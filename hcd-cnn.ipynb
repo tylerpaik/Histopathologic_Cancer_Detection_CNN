{
 "cells": [
  {
   "cell_type": "code",
   "execution_count": 1,
   "id": "af618dfe",
   "metadata": {
    "_cell_guid": "b1076dfc-b9ad-4769-8c92-a6c4dae69d19",
    "_uuid": "8f2839f25d086af736a60e9eeb907d3b93b6e0e5",
    "execution": {
     "iopub.execute_input": "2024-06-23T20:57:01.933782Z",
     "iopub.status.busy": "2024-06-23T20:57:01.933347Z",
     "iopub.status.idle": "2024-06-23T20:57:18.805684Z",
     "shell.execute_reply": "2024-06-23T20:57:18.804375Z"
    },
    "papermill": {
     "duration": 16.880736,
     "end_time": "2024-06-23T20:57:18.808708",
     "exception": false,
     "start_time": "2024-06-23T20:57:01.927972",
     "status": "completed"
    },
    "tags": []
   },
   "outputs": [
    {
     "name": "stderr",
     "output_type": "stream",
     "text": [
      "2024-06-23 20:57:05.488082: E external/local_xla/xla/stream_executor/cuda/cuda_dnn.cc:9261] Unable to register cuDNN factory: Attempting to register factory for plugin cuDNN when one has already been registered\n",
      "2024-06-23 20:57:05.488214: E external/local_xla/xla/stream_executor/cuda/cuda_fft.cc:607] Unable to register cuFFT factory: Attempting to register factory for plugin cuFFT when one has already been registered\n",
      "2024-06-23 20:57:05.654503: E external/local_xla/xla/stream_executor/cuda/cuda_blas.cc:1515] Unable to register cuBLAS factory: Attempting to register factory for plugin cuBLAS when one has already been registered\n"
     ]
    }
   ],
   "source": [
    "# This Python 3 environment comes with many helpful analytics libraries installed\n",
    "# It is defined by the kaggle/python Docker image: https://github.com/kaggle/docker-python\n",
    "# For example, here's several helpful packages to load\n",
    "\n",
    "import os\n",
    "import gc\n",
    "import time\n",
    "import warnings\n",
    "import cv2\n",
    "import numpy as np\n",
    "import pandas as pd\n",
    "import matplotlib.pyplot as plt\n",
    "from keras import backend as K\n",
    "from keras.models import Sequential\n",
    "from keras.layers import (BatchNormalization, Conv2D, Dense, Dropout, Flatten, MaxPooling2D, ReLU, Activation)\n",
    "from keras.optimizers import Adam\n",
    "from keras.callbacks import ReduceLROnPlateau, EarlyStopping, TensorBoard\n",
    "from tensorflow.keras.preprocessing.image import ImageDataGenerator\n",
    "from sklearn.metrics import auc, roc_curve\n",
    "from sklearn.model_selection import train_test_split\n",
    "warnings.filterwarnings(\"ignore\")\n",
    "\n",
    "df = pd.read_csv('../input/histopathologic-cancer-detection/train_labels.csv')\n",
    "df[\"file_name\"] = df[\"id\"].apply(lambda x: x + \".tif\")\n",
    "sample_size = 80000\n",
    "df_pos = df.loc[df[\"label\"] == 1, :].sample(n=sample_size)\n",
    "df_neg = df.loc[df[\"label\"] == 0, :].sample(n=sample_size)\n",
    "df = pd.concat([df_pos, df_neg], ignore_index=True)\n",
    "del df_pos, df_neg\n",
    "df[\"label\"] = df[\"label\"].astype(str)"
   ]
  },
  {
   "cell_type": "code",
   "execution_count": 2,
   "id": "5aaa36b4",
   "metadata": {
    "execution": {
     "iopub.execute_input": "2024-06-23T20:57:18.826969Z",
     "iopub.status.busy": "2024-06-23T20:57:18.825951Z",
     "iopub.status.idle": "2024-06-23T20:57:23.503999Z",
     "shell.execute_reply": "2024-06-23T20:57:23.502849Z"
    },
    "papermill": {
     "duration": 4.687092,
     "end_time": "2024-06-23T20:57:23.506582",
     "exception": false,
     "start_time": "2024-06-23T20:57:18.819490",
     "status": "completed"
    },
    "tags": []
   },
   "outputs": [
    {
     "name": "stdout",
     "output_type": "stream",
     "text": [
      "hello\n",
      "                                      file_name\n",
      "0  a7ea26360815d8492433b14cd8318607bcf99d9e.tif\n",
      "1  59d21133c845dff1ebc7a0c7cf40c145ea9e9664.tif\n",
      "2  5fde41ce8c6048a5c2f38eca12d6528fa312cdbb.tif\n",
      "3  bd953a3b1db1f7041ee95ff482594c4f46c73ed0.tif\n",
      "4  523fc2efd7aba53e597ab0f69cc2cbded7a6ce62.tif\n"
     ]
    }
   ],
   "source": [
    "path_test = \"../input/histopathologic-cancer-detection/test\"\n",
    "if not os.path.exists(path_test):\n",
    "    raise ValueError(f\"Test directory '{path_test}' does not exist.\")\n",
    "if not os.listdir(path_test):\n",
    "    raise ValueError(f\"Test directory '{path_test}' is empty. Please check the path or the files.\")\n",
    "    # Create DataFrame with test file names\n",
    "test_files = [x for x in os.listdir(path_test)]\n",
    "test_files = pd.DataFrame({\"file_name\": test_files})\n",
    "len_test = len(test_files)\n",
    "\n",
    "# Check if test_files DataFrame is empty\n",
    "if test_files.empty:\n",
    "    raise ValueError(\"The test_files DataFrame is empty. Please check the test file names.\")\n",
    "print(\"hello\")\n",
    "print(test_files.head())"
   ]
  },
  {
   "cell_type": "code",
   "execution_count": 3,
   "id": "96b9fb76",
   "metadata": {
    "execution": {
     "iopub.execute_input": "2024-06-23T20:57:23.515420Z",
     "iopub.status.busy": "2024-06-23T20:57:23.515030Z",
     "iopub.status.idle": "2024-06-23T20:57:23.968015Z",
     "shell.execute_reply": "2024-06-23T20:57:23.966892Z"
    },
    "papermill": {
     "duration": 0.46156,
     "end_time": "2024-06-23T20:57:23.971648",
     "exception": false,
     "start_time": "2024-06-23T20:57:23.510088",
     "status": "completed"
    },
    "tags": []
   },
   "outputs": [
    {
     "name": "stdout",
     "output_type": "stream",
     "text": [
      "Training data size: 144000.\n",
      "Validation data size: 16000.\n"
     ]
    },
    {
     "data": {
      "text/plain": [
       "62"
      ]
     },
     "execution_count": 3,
     "metadata": {},
     "output_type": "execute_result"
    }
   ],
   "source": [
    "df_train, df_val = train_test_split(df, test_size=0.1, stratify=df[\"label\"])\n",
    "df_train.reset_index(drop=True, inplace=True)\n",
    "df_val.reset_index(drop=True, inplace=True)\n",
    "len_train = df_train.shape[0]\n",
    "len_val = df_val.shape[0]\n",
    "print(f\"Training data size: {len_train}.\")\n",
    "print(f\"Validation data size: {len_val}.\")\n",
    "del df\n",
    "gc.collect()"
   ]
  },
  {
   "cell_type": "code",
   "execution_count": 4,
   "id": "c019ee4e",
   "metadata": {
    "execution": {
     "iopub.execute_input": "2024-06-23T20:57:23.982449Z",
     "iopub.status.busy": "2024-06-23T20:57:23.981350Z",
     "iopub.status.idle": "2024-06-23T21:02:31.523050Z",
     "shell.execute_reply": "2024-06-23T21:02:31.521864Z"
    },
    "papermill": {
     "duration": 307.549299,
     "end_time": "2024-06-23T21:02:31.525416",
     "exception": false,
     "start_time": "2024-06-23T20:57:23.976117",
     "status": "completed"
    },
    "tags": []
   },
   "outputs": [
    {
     "name": "stdout",
     "output_type": "stream",
     "text": [
      "Found 144000 validated image filenames belonging to 2 classes.\n",
      "Found 16000 validated image filenames belonging to 2 classes.\n"
     ]
    }
   ],
   "source": [
    "img_gen_params = {\n",
    "    \"rescale\": 1.0 / 255,\n",
    "    \"samplewise_center\": True,\n",
    "    \"samplewise_std_normalization\": True,\n",
    "    \"horizontal_flip\": True,\n",
    "    \"vertical_flip\": True\n",
    "}\n",
    "img_gen = ImageDataGenerator(**img_gen_params)\n",
    "IMAGE_SHAPE = (96, 96, 3)\n",
    "path_train = \"../input/histopathologic-cancer-detection/train\"\n",
    "batch_size = 32\n",
    "img_flow_params_train = {\n",
    "    \"dataframe\": df_train,\n",
    "    \"directory\": path_train,\n",
    "    \"x_col\": \"file_name\",\n",
    "    \"y_col\": \"label\",\n",
    "    \"has_ext\": True,\n",
    "    \"target_size\": IMAGE_SHAPE[:2],\n",
    "    \"batch_size\": batch_size,\n",
    "    \"class_mode\": 'binary'\n",
    "}\n",
    "img_flow_train = img_gen.flow_from_dataframe(**img_flow_params_train)\n",
    "img_flow_params_val = {\n",
    "    \"dataframe\": df_val,\n",
    "    \"directory\": path_train,\n",
    "    \"x_col\": \"file_name\",\n",
    "    \"y_col\": \"label\",\n",
    "    \"has_ext\": True,\n",
    "    \"target_size\": IMAGE_SHAPE[:2],\n",
    "    \"batch_size\": 1,\n",
    "    \"shuffle\": False,\n",
    "    \"class_mode\": 'binary'\n",
    "}\n",
    "img_flow_val = img_gen.flow_from_dataframe(**img_flow_params_val)"
   ]
  },
  {
   "cell_type": "code",
   "execution_count": 5,
   "id": "5ff32501",
   "metadata": {
    "execution": {
     "iopub.execute_input": "2024-06-23T21:02:31.534706Z",
     "iopub.status.busy": "2024-06-23T21:02:31.534311Z",
     "iopub.status.idle": "2024-06-23T21:02:32.225193Z",
     "shell.execute_reply": "2024-06-23T21:02:32.224040Z"
    },
    "papermill": {
     "duration": 0.698309,
     "end_time": "2024-06-23T21:02:32.227741",
     "exception": false,
     "start_time": "2024-06-23T21:02:31.529432",
     "status": "completed"
    },
    "tags": []
   },
   "outputs": [],
   "source": [
    "kernel_size = (5, 5)\n",
    "filters = (32, 64, 128)\n",
    "drop_prob_conv = 0.3\n",
    "drop_prob_dense = 0.3\n",
    "model = Sequential()\n",
    "model.add(Conv2D(filters[0], kernel_size, padding=\"same\", kernel_initializer='he_normal', input_shape=IMAGE_SHAPE))\n",
    "model.add(BatchNormalization())\n",
    "model.add(ReLU())\n",
    "model.add(Conv2D(filters[0], kernel_size, padding=\"same\", kernel_initializer='he_normal'))\n",
    "model.add(BatchNormalization())\n",
    "model.add(ReLU())\n",
    "model.add(MaxPooling2D())\n",
    "model.add(Dropout(drop_prob_conv))\n",
    "model.add(Conv2D(filters[1], kernel_size, padding=\"same\", kernel_initializer='he_normal'))\n",
    "model.add(BatchNormalization())\n",
    "model.add(ReLU())\n",
    "model.add(Conv2D(filters[1], kernel_size, padding=\"same\", kernel_initializer='he_normal'))\n",
    "model.add(BatchNormalization())\n",
    "model.add(ReLU())\n",
    "model.add(MaxPooling2D())\n",
    "model.add(Dropout(drop_prob_conv))\n",
    "model.add(Conv2D(filters[2], kernel_size, padding=\"same\", kernel_initializer='he_normal'))\n",
    "model.add(BatchNormalization())\n",
    "model.add(ReLU())\n",
    "model.add(Conv2D(filters[2], kernel_size, padding=\"same\", kernel_initializer='he_normal'))\n",
    "model.add(BatchNormalization())\n",
    "model.add(ReLU())\n",
    "model.add(MaxPooling2D())\n",
    "model.add(Dropout(drop_prob_conv))\n",
    "model.add(Flatten())\n",
    "model.add(BatchNormalization())\n",
    "model.add(ReLU())\n",
    "model.add(Dropout(drop_prob_dense))\n",
    "model.add(Dense(256))\n",
    "model.add(BatchNormalization())\n",
    "model.add(ReLU())\n",
    "model.add(Dropout(drop_prob_dense))\n",
    "model.add(Dense(1, activation=\"sigmoid\"))\n",
    "model.compile(Adam(0.01), loss=\"binary_crossentropy\", metrics=[\"accuracy\"])"
   ]
  },
  {
   "cell_type": "code",
   "execution_count": 6,
   "id": "5207e37c",
   "metadata": {
    "execution": {
     "iopub.execute_input": "2024-06-23T21:02:32.236675Z",
     "iopub.status.busy": "2024-06-23T21:02:32.236288Z",
     "iopub.status.idle": "2024-06-23T21:02:32.363281Z",
     "shell.execute_reply": "2024-06-23T21:02:32.362083Z"
    },
    "papermill": {
     "duration": 0.134363,
     "end_time": "2024-06-23T21:02:32.365777",
     "exception": false,
     "start_time": "2024-06-23T21:02:32.231414",
     "status": "completed"
    },
    "tags": []
   },
   "outputs": [
    {
     "name": "stdout",
     "output_type": "stream",
     "text": [
      "Batch 1: x shape: (1, 96, 96, 3), y: [0.]\n",
      "Batch 2: x shape: (1, 96, 96, 3), y: [1.]\n",
      "Batch 3: x shape: (1, 96, 96, 3), y: [1.]\n",
      "Batch 4: x shape: (1, 96, 96, 3), y: [1.]\n",
      "Batch 5: x shape: (1, 96, 96, 3), y: [1.]\n",
      "Expected validation steps: 16000\n",
      "Validation batch size: 1\n"
     ]
    }
   ],
   "source": [
    "early_stopping = EarlyStopping(monitor=\"val_accuracy\", patience=3, verbose=1, mode='max')\n",
    "lr_decay_params = {\n",
    "    \"monitor\": \"val_accuracy\",\n",
    "    \"factor\": 0.5,\n",
    "    \"patience\": 1,\n",
    "    \"min_lr\": 1e-5\n",
    "}\n",
    "lr_decay = ReduceLROnPlateau(**lr_decay_params)\n",
    "for i in range(5):\n",
    "    x, y = next(img_flow_val)\n",
    "    print(f\"Batch {i+1}: x shape: {x.shape}, y: {y}\")\n",
    "\n",
    "# Ensure validation steps are correct\n",
    "print(f\"Expected validation steps: {len_val}\")\n",
    "print(f\"Validation batch size: {img_flow_val.batch_size}\")"
   ]
  },
  {
   "cell_type": "code",
   "execution_count": 7,
   "id": "2ad0d464",
   "metadata": {
    "execution": {
     "iopub.execute_input": "2024-06-23T21:02:32.375054Z",
     "iopub.status.busy": "2024-06-23T21:02:32.374661Z",
     "iopub.status.idle": "2024-06-24T00:07:42.827400Z",
     "shell.execute_reply": "2024-06-24T00:07:42.824733Z"
    },
    "papermill": {
     "duration": 11110.849663,
     "end_time": "2024-06-24T00:07:43.219292",
     "exception": false,
     "start_time": "2024-06-23T21:02:32.369629",
     "status": "completed"
    },
    "tags": []
   },
   "outputs": [
    {
     "name": "stdout",
     "output_type": "stream",
     "text": [
      "Training the model...\n",
      "\u001b[1m4500/4500\u001b[0m \u001b[32m━━━━━━━━━━━━━━━━━━━━\u001b[0m\u001b[37m\u001b[0m \u001b[1m11110s\u001b[0m 2s/step - accuracy: 0.7923 - loss: 0.4589 - val_accuracy: 0.7554 - val_loss: 0.4785 - learning_rate: 0.0100\n",
      "Done!\n"
     ]
    }
   ],
   "source": [
    "print(\"Training the model...\")\n",
    "model.fit(\n",
    "    img_flow_train,\n",
    "    steps_per_epoch=len_train // batch_size,\n",
    "    epochs=1,\n",
    "    verbose=1,\n",
    "    validation_data=img_flow_val,\n",
    "    validation_steps=len_val,\n",
    "    callbacks=[lr_decay, early_stopping]\n",
    ")\n",
    "print(\"Done!\")"
   ]
  },
  {
   "cell_type": "code",
   "execution_count": 8,
   "id": "73ce359f",
   "metadata": {
    "execution": {
     "iopub.execute_input": "2024-06-24T00:07:43.838687Z",
     "iopub.status.busy": "2024-06-24T00:07:43.838169Z",
     "iopub.status.idle": "2024-06-24T00:14:24.383616Z",
     "shell.execute_reply": "2024-06-24T00:14:24.382601Z"
    },
    "papermill": {
     "duration": 401.148883,
     "end_time": "2024-06-24T00:14:24.677198",
     "exception": false,
     "start_time": "2024-06-24T00:07:43.528315",
     "status": "completed"
    },
    "tags": []
   },
   "outputs": [
    {
     "name": "stdout",
     "output_type": "stream",
     "text": [
      "\u001b[1m16000/16000\u001b[0m \u001b[32m━━━━━━━━━━━━━━━━━━━━\u001b[0m\u001b[37m\u001b[0m \u001b[1m392s\u001b[0m 24ms/step\n",
      "Validation accuracy: 0.756.\n",
      "Validation AUC: 0.923.\n"
     ]
    },
    {
     "data": {
      "image/png": "[encoded data removed]",
      "text/plain": [
       "<Figure size 640x480 with 1 Axes>"
      ]
     },
     "metadata": {},
     "output_type": "display_data"
    },
    {
     "data": {
      "text/plain": [
       "4085"
      ]
     },
     "execution_count": 8,
     "metadata": {},
     "output_type": "execute_result"
    },
    {
     "data": {
      "text/plain": [
       "<Figure size 640x480 with 0 Axes>"
      ]
     },
     "metadata": {},
     "output_type": "display_data"
    }
   ],
   "source": [
    "y_val_pred = model.predict(img_flow_val, steps=len_val)[:, 0]\n",
    "y_val_true = img_flow_val.classes\n",
    "acc_val = np.equal((y_val_pred > 0.5).astype(\"int\"), y_val_true).sum() / y_val_pred.shape[0]\n",
    "print(f\"Validation accuracy: {acc_val:.3f}.\")\n",
    "fpr, tpr, thresholds = roc_curve(y_val_true, y_val_pred)\n",
    "auc_val = auc(fpr, tpr)\n",
    "print(f\"Validation AUC: {auc_val:.3f}.\")\n",
    "plt.plot([0, 1], [0, 1], \"k--\")\n",
    "plt.plot(fpr, tpr, label=f\"ACC={acc_val:.4f}, AUC={auc_val:.4f}\")\n",
    "plt.xlabel(\"False positive rate\")\n",
    "plt.ylabel(\"True positive rate\")\n",
    "plt.title(\"ROC curve\")\n",
    "plt.legend(loc=\"best\")\n",
    "plt.show()\n",
    "plt.savefig(\"roc_curve.png\")\n",
    "del img_flow_params_train, img_flow_params_val\n",
    "gc.collect()"
   ]
  },
  {
   "cell_type": "code",
   "execution_count": 9,
   "id": "1add4482",
   "metadata": {
    "execution": {
     "iopub.execute_input": "2024-06-24T00:14:26.142165Z",
     "iopub.status.busy": "2024-06-24T00:14:26.141740Z",
     "iopub.status.idle": "2024-06-24T00:34:34.005347Z",
     "shell.execute_reply": "2024-06-24T00:34:34.003903Z"
    },
    "papermill": {
     "duration": 1208.553302,
     "end_time": "2024-06-24T00:34:34.008235",
     "exception": false,
     "start_time": "2024-06-24T00:14:25.454933",
     "status": "completed"
    },
    "tags": []
   },
   "outputs": [
    {
     "name": "stdout",
     "output_type": "stream",
     "text": [
      "Found 57458 validated image filenames.\n",
      "\u001b[1m57458/57458\u001b[0m \u001b[32m━━━━━━━━━━━━━━━━━━━━\u001b[0m\u001b[37m\u001b[0m \u001b[1m1036s\u001b[0m 18ms/step   \n"
     ]
    }
   ],
   "source": [
    "try:\n",
    "    img_gen_params = {\n",
    "        \"rescale\": 1.0 / 255,\n",
    "        \"samplewise_center\": True,\n",
    "        \"samplewise_std_normalization\": True,\n",
    "        \"horizontal_flip\": True,\n",
    "        \"vertical_flip\": True\n",
    "    }\n",
    "    img_gen = ImageDataGenerator(**img_gen_params)\n",
    "    path_test = \"../input/histopathologic-cancer-detection/test\"\n",
    "    if not os.path.exists(path_test):\n",
    "        raise ValueError(f\"Test directory '{path_test}' does not exist.\")\n",
    "    if not os.listdir(path_test):\n",
    "        raise ValueError(f\"Test directory '{path_test}' is empty. Please check the path or the files.\")\n",
    "    df_test = [x for x in os.listdir(path_test)]\n",
    "    df_test = pd.DataFrame({\"file_name\": df_test})\n",
    "    len_test = len(df_test)\n",
    "    IMAGE_SHAPE = (96, 96, 3)\n",
    "    bs = 32\n",
    "    img_flow_params_test = {\n",
    "        \"dataframe\": df_test,\n",
    "        \"directory\": path_test,\n",
    "        \"x_col\": \"file_name\",\n",
    "        \"has_ext\": True,\n",
    "        \"class_mode\": None,\n",
    "        \"target_size\": IMAGE_SHAPE[:2],\n",
    "        \"batch_size\": bs,\n",
    "        \"shuffle\": False\n",
    "    }\n",
    "    img_flow_test = img_gen.flow_from_dataframe(**img_flow_params_test)\n",
    "    y_pred = pd.read_csv(\"../input/histopathologic-cancer-detection/sample_submission.csv\")\n",
    "    y_pred[\"id\"] = y_pred[\"id\"].apply(lambda x: x + \".tif\")\n",
    "    test_run = 1\n",
    "    len_test = len(df_test)\n",
    "    for i in range(test_run):\n",
    "        preds = model.predict(img_flow_test, steps=len_test, verbose=1)\n",
    "        file_names = img_flow_test.filenames\n",
    "        ind_y_pred = pd.DataFrame({\"id\": file_names, \"label\" + str(i + 1): preds[:, 0]})\n",
    "        y_pred = y_pred.merge(ind_y_pred, on=\"id\")\n",
    "    y_pred[\"label\"] = y_pred[[\"label\" + str(i + 1) for i in range(test_run)]].mean(axis=1)\n",
    "    y_pred.drop([\"label\" + str(i + 1) for i in range(test_run)], axis=1, inplace=True)\n",
    "    y_pred[\"id\"] = y_pred[\"id\"].apply(lambda x: x.split(\".\")[0])\n",
    "    y_pred.to_csv(\"y_pred.csv\", index=False)\n",
    "except:\n",
    "    base_test_dir = '../input/histopathologic-cancer-detection/test/'\n",
    "    test_files = glob(os.path.join(base_test_dir, '*.tif'))\n",
    "    submission = pd.DataFrame()\n",
    "    file_batch = 5000\n",
    "    max_idx = len(test_files)\n",
    "\n",
    "    for idx in range(0, max_idx, file_batch):\n",
    "        print(f\"Indexes: {idx} - {idx + file_batch}\")\n",
    "        test_df = pd.DataFrame({'path': test_files[idx:idx + file_batch]})\n",
    "        test_df['id'] = test_df['path'].map(lambda x: os.path.basename(x).split(\".\")[0])\n",
    "        test_df['image'] = test_df['path'].map(imread)\n",
    "        K_test = np.stack(test_df[\"image\"].values)\n",
    "        K_test = (K_test - K_test.mean()) / K_test.std()\n",
    "        predictions = model.predict(K_test)\n",
    "        test_df['label'] = predictions\n",
    "        submission = pd.concat([submission, test_df[[\"id\", \"label\"]]])\n",
    "\n",
    "    submission['id'] = submission['id'].apply(lambda x: x.split(\".\")[0])\n",
    "    submission.to_csv(\"y_pred.csv\", index=False)\n",
    "    print(submission.head())"
   ]
  }
 ],
 "metadata": {
  "kaggle": {
   "accelerator": "none",
   "dataSources": [
    {
     "databundleVersionId": 862157,
     "sourceId": 11848,
     "sourceType": "competition"
    }
   ],
   "dockerImageVersionId": 30732,
   "isGpuEnabled": false,
   "isInternetEnabled": false,
   "language": "python",
   "sourceType": "notebook"
  },
  "kernelspec": {
   "display_name": "Python 3",
   "language": "python",
   "name": "python3"
  },
  "language_info": {
   "codemirror_mode": {
    "name": "ipython",
    "version": 3
   },
   "file_extension": ".py",
   "mimetype": "text/x-python",
   "name": "python",
   "nbconvert_exporter": "python",
   "pygments_lexer": "ipython3",
   "version": "3.10.13"
  },
  "papermill": {
   "default_parameters": {},
   "duration": 13059.116378,
   "end_time": "2024-06-24T00:34:38.168670",
   "environment_variables": {},
   "exception": null,
   "input_path": "__notebook__.ipynb",
   "output_path": "__notebook__.ipynb",
   "parameters": {},
   "start_time": "2024-06-23T20:56:59.052292",
   "version": "2.5.0"
  }
 },
 "nbformat": 4,
 "nbformat_minor": 5
}
